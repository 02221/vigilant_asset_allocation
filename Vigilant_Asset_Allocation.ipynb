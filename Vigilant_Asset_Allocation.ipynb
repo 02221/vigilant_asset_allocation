{
 "cells": [
  {
   "cell_type": "code",
   "execution_count": 4,
   "metadata": {},
   "outputs": [],
   "source": [
    "import pandas as pd\n",
    "import pandas_datareader as pdr\n",
    "import yfinance as yf\n",
    "import numpy as np\n",
    "from datetime import datetime\n",
    "from datetime import timedelta\n",
    "import backtrader as bt\n",
    "import pyfolio as pf\n",
    "import math\n",
    "import matplotlib.pyplot as plt\n",
    "%matplotlib inline\n",
    "import seaborn"
   ]
  },
  {
   "cell_type": "code",
   "execution_count": null,
   "metadata": {},
   "outputs": [],
   "source": [
    "def load_data(ticker_ls, start_date, end_date):\n",
    "    df = pd.DataFrame(columns = ticker_ls)\n",
    "    \n",
    "    for ticker in ticker_ls:\n",
    "        df[ticker] = yf.download(ticker, start = start_date, end = end_date)[\"Adj Close\"]\n",
    "        \n",
    "    return df"
   ]
  },
  {
   "cell_type": "code",
   "execution_count": null,
   "metadata": {},
   "outputs": [],
   "source": [
    "# 13612W filter: average annual returns over the past 1, 3, 6, 12 months.\n",
    "def cal_momentum(df, ticker):\n",
    "    p0 = df[ticker]\n",
    "    \n",
    "    # working days\n",
    "    try:\n",
    "        p1 = df[ticker].shift(20)\n",
    "        p3 = df[ticker].shift(60)\n",
    "        p6 = df[ticker].shift(120)\n",
    "        p12 = df[ticker].shift(240)\n",
    "        momentum = 12*(p0/p1-1) + 4*(p0/p3-1) + 2*(p0/p6-1) + 1*(p0/p12-1)\n",
    "    \n",
    "    except:\n",
    "        pass\n",
    "    \n",
    "    return momentum"
   ]
  },
  {
   "cell_type": "code",
   "execution_count": null,
   "metadata": {},
   "outputs": [],
   "source": [
    "def select_asset(x):\n",
    "    selected_df = pd.Series([0, 0], index=['selected', 'price'])\n",
    "    \n",
    "    # \n",
    "    if x['SPY_mom'] > 0 and x['EFA_mom'] > 0 and x['EEM_mom'] > 0 and x['AGG_mom'] > 0:\n",
    "        selected_mom = max(x['SPY_mom'], x['EFA_mom'], x['EEM_mom'], x['AGG_mom'])\n",
    "        \n",
    "    else:\n",
    "        selected_mom = max(x['SHY_mom'], x['IEF_mom'], x['LQD_mom'])\n",
    "    \n",
    "    # remove '_mom' from the seleceted asset name\n",
    "    selected_df['selected'] = x[x==selected_mom].index[0][:3]\n",
    "    selected_df['price'] = x[selected_df['selected']]\n",
    "    \n",
    "    return selected_df"
   ]
  }
 ],
 "metadata": {
  "kernelspec": {
   "display_name": "Python 3",
   "language": "python",
   "name": "python3"
  },
  "language_info": {
   "codemirror_mode": {
    "name": "ipython",
    "version": 3
   },
   "file_extension": ".py",
   "mimetype": "text/x-python",
   "name": "python",
   "nbconvert_exporter": "python",
   "pygments_lexer": "ipython3",
   "version": "3.7.3"
  }
 },
 "nbformat": 4,
 "nbformat_minor": 2
}
